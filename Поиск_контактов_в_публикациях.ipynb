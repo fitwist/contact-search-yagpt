{
  "cells": [
    {
      "cell_type": "markdown",
      "metadata": {
        "id": "3y3MjvfeAOE2"
      },
      "source": [
        "Этот код позволяет найти контактные данные (телефоны, почты, ссылки и проч.) в .pdf / .docx файлах, расположенных в директории Google Drive.\n",
        "\n",
        "Чтобы использовать:\n",
        "- залей файлы в [облачную папку](https://drive.google.com/drive/folders/1BnT3wK8owapiP-mxxhn-9Kt4e7uvBZRX)\n",
        "- нажми кнопку запуска\n",
        "- разреши авторизацию Google OAuth во всплывающем окне\n",
        "- подожди несколько минут\n",
        "- забери результат из загрузок браузера"
      ]
    },
    {
      "cell_type": "code",
      "execution_count": null,
      "metadata": {
        "id": "uCj8SaDSMkNZ"
      },
      "outputs": [],
      "source": [
        "# TODO: подвести сервисный аккаунт вместо IAM-токена / реализовать переполучение IAM-токена cURL'ами"
      ]
    },
    {
      "cell_type": "markdown",
      "metadata": {
        "id": "kxve1_vy9i1K"
      },
      "source": [
        "# Подгружаем инструкции"
      ]
    },
    {
      "cell_type": "code",
      "execution_count": null,
      "metadata": {
        "id": "5dMu5aU2dEgc"
      },
      "outputs": [],
      "source": [
        "%%capture\n",
        "!pip install -U -q PyDrive@1.19.0"
      ]
    },
    {
      "cell_type": "code",
      "execution_count": null,
      "metadata": {
        "id": "gDriwjhKdDvP"
      },
      "outputs": [],
      "source": [
        "import os\n",
        "from pydrive2.auth import GoogleAuth\n",
        "from pydrive2.drive import GoogleDrive\n",
        "from google.colab import auth\n",
        "from oauth2client.client import GoogleCredentials\n",
        "\n",
        "auth.authenticate_user()\n",
        "gauth = GoogleAuth()\n",
        "gauth.credentials = GoogleCredentials.get_application_default()\n",
        "drive = GoogleDrive(gauth)"
      ]
    },
    {
      "cell_type": "code",
      "execution_count": null,
      "metadata": {
        "id": "6eJavo4id0GB"
      },
      "outputs": [],
      "source": [
        "# Скачаем файлы из папки Google Drive в локальное временное хранилище\n",
        "%%capture\n",
        "local_download_path = os.path.expanduser('/content')\n",
        "try:\n",
        "  os.makedirs(local_download_path)\n",
        "except: pass\n",
        "\n",
        "file_list = drive.ListFile(\n",
        "    {'q': \"'<ID папки Google Drive из URL' in parents\"}).GetList()\n",
        "\n",
        "for f in file_list:\n",
        "\n",
        "  print('title: %s, id: %s' % (f['title'], f['id']))\n",
        "  fname = os.path.join(local_download_path, f['title'])\n",
        "  print('downloading to {}'.format(fname))\n",
        "  f_ = drive.CreateFile({'id': f['id']})\n",
        "  f_.GetContentFile(fname)\n",
        "\n",
        "\n",
        "try:\n",
        "  with open(fname, 'r') as f:\n",
        "    print(f.read())\n",
        "except UnicodeDecodeError:\n",
        "  pass"
      ]
    },
    {
      "cell_type": "code",
      "execution_count": null,
      "metadata": {
        "colab": {
          "base_uri": "https://localhost:8080/"
        },
        "id": "hc9k-3-c-jas",
        "outputId": "6cb09d57-74c9-4e9b-b2cd-48da793c2408"
      },
      "outputs": [
        {
          "name": "stdout",
          "output_type": "stream",
          "text": [
            "['PUBID_345395-Инструкция по обработке обслуживания (Релиз 5.1).pdf', 'PUBID_2009524-Руководство пользователя AI.pdf', 'PUBID_345395-Список изменений.pdf']\n"
          ]
        }
      ],
      "source": [
        "directory_path = '/content/'\n",
        "directory_files = os.listdir(directory_path)\n",
        "\n",
        "files = [x for x in directory_files if \".pdf\" in x or \".docx\" in x]\n",
        "print(files)"
      ]
    },
    {
      "cell_type": "markdown",
      "metadata": {
        "id": "FX5N5QsXSanE"
      },
      "source": [
        "# Подключаем инструменты, авторизуемся в Yandex Cloud"
      ]
    },
    {
      "cell_type": "code",
      "execution_count": null,
      "metadata": {
        "id": "4LUdWE-MFibD"
      },
      "outputs": [],
      "source": [
        "%%capture\n",
        "!pip install pdfminer==20191125"
      ]
    },
    {
      "cell_type": "code",
      "execution_count": null,
      "metadata": {
        "id": "LCw32RYhIErI"
      },
      "outputs": [],
      "source": [
        "%%capture\n",
        "!pip install Pillow==10.3.0"
      ]
    },
    {
      "cell_type": "code",
      "execution_count": null,
      "metadata": {
        "id": "pCC41_UyKVcG"
      },
      "outputs": [],
      "source": [
        "%%capture\n",
        "!pip install PyMuPDF==1.24.0"
      ]
    },
    {
      "cell_type": "code",
      "execution_count": null,
      "metadata": {
        "id": "WdKUL9H6RmFp"
      },
      "outputs": [],
      "source": [
        "%%capture\n",
        "# Установим русскоязычный датасет Tesseract\n",
        "!sudo apt-get install tesseract-ocr-rus"
      ]
    },
    {
      "cell_type": "code",
      "execution_count": null,
      "metadata": {
        "id": "p8Xg2_wgMxxf"
      },
      "outputs": [],
      "source": [
        "%%capture\n",
        "!pip install pytesseract==0.3.10"
      ]
    },
    {
      "cell_type": "code",
      "execution_count": null,
      "metadata": {
        "id": "Q6s7sfgUXz5y"
      },
      "outputs": [],
      "source": [
        "%%capture\n",
        "!pip install spacy==3.7.4"
      ]
    },
    {
      "cell_type": "code",
      "execution_count": null,
      "metadata": {
        "id": "zL1R5uava8Rv"
      },
      "outputs": [],
      "source": [
        "%%capture\n",
        "!pip install python-docx==1.1.0"
      ]
    },
    {
      "cell_type": "code",
      "execution_count": null,
      "metadata": {
        "id": "nfeVNajIN0Gx"
      },
      "outputs": [],
      "source": [
        "import pytesseract as pt\n",
        "\n",
        "# Укажем путь до исполняемого файла Tesseract\n",
        "pt.pytesseract.tesseract_cmd = (r'/usr/bin/tesseract')"
      ]
    },
    {
      "cell_type": "code",
      "execution_count": null,
      "metadata": {
        "id": "SCRHl9MsHzD4"
      },
      "outputs": [],
      "source": [
        "from docx import Document\n",
        "from PIL import Image\n",
        "from pdfminer.converter import TextConverter\n",
        "from pdfminer.pdfinterp import PDFResourceManager, PDFPageInterpreter\n",
        "from pdfminer.pdfpage import PDFPage\n",
        "from spacy.lang.ru import Russian\n",
        "from google.colab import userdata\n",
        "from google.colab import files as fls\n",
        "\n",
        "import fitz\n",
        "import glob\n",
        "import io\n",
        "import json\n",
        "import shutil\n",
        "import requests\n",
        "import time"
      ]
    },
    {
      "cell_type": "code",
      "execution_count": null,
      "metadata": {
        "id": "SPJCTBWsPoF7"
      },
      "outputs": [],
      "source": [
        "# Подгрузим креды Yandex Cloud\n",
        "FOLDER_ID = userdata.get('FOLDER_ID')\n",
        "IAM_TOKEN = userdata.get('IAM_TOKEN')\n",
        "# API_TOKEN = userdata.get('API_TOKEN')\n",
        "\n",
        "# Зададим заголовок POST-запроса к YandexGPT\n",
        "# headers = {'Authorization': f'Api-Key {API_TOKEN}'}\n",
        "headers = {'Authorization': f'Bearer {IAM_TOKEN}'}"
      ]
    },
    {
      "cell_type": "markdown",
      "metadata": {
        "id": "5FKmyUkFF0dz"
      },
      "source": [
        "# Создаем рабочие папки"
      ]
    },
    {
      "cell_type": "code",
      "execution_count": null,
      "metadata": {
        "id": "zEytdsmqbg8j"
      },
      "outputs": [],
      "source": [
        "# Создадим временную папку для хранения извлеченных картинок\n",
        "!mkdir to_extract\n",
        "\n",
        "# Создадим временную папку для хранения извлеченного из текста на русском картинок\n",
        "!mkdir result_rus\n",
        "\n",
        "# Создадим временную папку для хранения извлеченного из текста на английском картинок\n",
        "!mkdir result_eng\n",
        "\n",
        "# Создадим папку для хранения результата проверки YaGPT\n",
        "!mkdir prompts"
      ]
    },
    {
      "cell_type": "markdown",
      "metadata": {
        "id": "RoPl2zlsSdof"
      },
      "source": [
        "# Задаем функции извлечения текста и картинок"
      ]
    },
    {
      "cell_type": "code",
      "execution_count": null,
      "metadata": {
        "id": "Imww1LRXF7NW"
      },
      "outputs": [],
      "source": [
        "# Извлечем кириллический текст из документа\n",
        "def extract_text_from_pdf(pdf_path):\n",
        "    resource_manager = PDFResourceManager()\n",
        "    fake_file_handle = io.StringIO()\n",
        "    converter = TextConverter(resource_manager, fake_file_handle)\n",
        "    page_interpreter = PDFPageInterpreter(resource_manager, converter)\n",
        "\n",
        "    with open(pdf_path, 'rb') as fh:\n",
        "        for page in PDFPage.get_pages(fh,\n",
        "                                      caching=True,\n",
        "                                      check_extractable=True):\n",
        "            page_interpreter.process_page(page)\n",
        "\n",
        "        text = fake_file_handle.getvalue()\n",
        "\n",
        "    converter.close()\n",
        "    fake_file_handle.close()\n",
        "\n",
        "    if text:\n",
        "        return text"
      ]
    },
    {
      "cell_type": "code",
      "execution_count": null,
      "metadata": {
        "id": "9Gq6oRNbalQd"
      },
      "outputs": [],
      "source": [
        "def extract_text_from_docx(docx_path):\n",
        "  f = open(f'{docx_path}', 'rb')\n",
        "  document = Document(f)\n",
        "  fullText = []\n",
        "  for para in document.paragraphs:\n",
        "      fullText.append(para.text)\n",
        "  return '\\n'.join(fullText)"
      ]
    },
    {
      "cell_type": "code",
      "execution_count": null,
      "metadata": {
        "id": "1lY5e3u5OKGy"
      },
      "outputs": [],
      "source": [
        "# Извлечем текст из картинок на русском языке\n",
        "def extract_rus_text_from_images():\n",
        "  imagePath =\"/content/to_extract\"\n",
        "  tempPath =\"/content/result_rus\"\n",
        "\n",
        "  for imageName in os.listdir(imagePath):\n",
        "    try:\n",
        "      inputPath = os.path.join(imagePath, imageName)\n",
        "      img = Image.open(inputPath)\n",
        "\n",
        "      text = pt.image_to_string(img, lang =\"rus\")\n",
        "\n",
        "      fullTempPath = os.path.join(tempPath, imageName + \".txt\")\n",
        "\n",
        "      # Сохраним результат в отдельные файлы\n",
        "      file1 = open(fullTempPath, \"w\")\n",
        "      print(f\"Текст на изображении распознан.\")\n",
        "      file1.write(text)\n",
        "      file1.close()\n",
        "    except IsADirectoryError:\n",
        "      pass"
      ]
    },
    {
      "cell_type": "code",
      "execution_count": null,
      "metadata": {
        "id": "7VbNdlQRPNND"
      },
      "outputs": [],
      "source": [
        "# Извлечем текст из картинок на английском языке\n",
        "def extract_eng_text_from_images():\n",
        "  imagePath =\"/content/to_extract\"\n",
        "  tempPath =\"/content/result_eng\"\n",
        "\n",
        "  for imageName in os.listdir(imagePath):\n",
        "    try:\n",
        "      inputPath = os.path.join(imagePath, imageName)\n",
        "      img = Image.open(inputPath)\n",
        "\n",
        "      text = pt.image_to_string(img, lang =\"rus\")\n",
        "\n",
        "      fullTempPath = os.path.join(tempPath, imageName + \".txt\")\n",
        "\n",
        "      # Сохраним результат в отдельные файлы\n",
        "      file1 = open(fullTempPath, \"w\")\n",
        "      print(f\"Текст на изображении распознан.\")\n",
        "      file1.write(text)\n",
        "      file1.close()\n",
        "    except IsADirectoryError:\n",
        "      pass"
      ]
    },
    {
      "cell_type": "code",
      "execution_count": null,
      "metadata": {
        "id": "_NGFq1rF_tiC"
      },
      "outputs": [],
      "source": [
        "# Извлечем текст из картинок\n",
        "def extract_text_from_images():\n",
        "  images_to_extract = os.listdir('/content/to_extract')\n",
        "\n",
        "  if len(images_to_extract) > 0:\n",
        "    extract_rus_text_from_images()\n",
        "    extract_eng_text_from_images()\n",
        "\n",
        "    tempEngPath = \"/content/result_eng/\"\n",
        "    engTemp = os.listdir(tempEngPath)\n",
        "    engFiles = [tempEngPath + s for s in engTemp]\n",
        "\n",
        "    tempRusPath = \"/content/result_rus/\"\n",
        "    rusTemp = os.listdir(tempRusPath)\n",
        "    rusFiles = [tempRusPath + s for s in rusTemp]\n",
        "\n",
        "    # Сохраним текст из картинок на английском в отдельный файл\n",
        "    with open('output_eng.txt','wb') as wfd:\n",
        "        for f in engFiles:\n",
        "            try:\n",
        "              with open(f,'rb') as fd:\n",
        "                  shutil.copyfileobj(fd, wfd)\n",
        "            except IsADirectoryError:\n",
        "              pass\n",
        "\n",
        "    # Сохраним текст из картинок на русском в отдельный файл\n",
        "    with open('output_rus.txt','wb') as wfd:\n",
        "        for f in rusFiles:\n",
        "            try:\n",
        "              with open(f,'rb') as fd:\n",
        "                  shutil.copyfileobj(fd, wfd)\n",
        "            except IsADirectoryError:\n",
        "              pass\n",
        "  else:\n",
        "    pass"
      ]
    },
    {
      "cell_type": "code",
      "execution_count": null,
      "metadata": {
        "id": "EAssd_H9f47q"
      },
      "outputs": [],
      "source": [
        "# Выделим контактные данные из текста\n",
        "def search_for_contacts(auth_headers, FILENAME):\n",
        "  # Объединим файлы: текст инструкции (без картинок), распознанный с картинок текст на английском + русском\n",
        "  filenames = [f'{FILENAME}_output.txt', f'output_eng.txt', f'output_rus.txt']\n",
        "\n",
        "  with open(f'/content/{FILENAME}_output_total.txt', 'w') as outfile:\n",
        "      for fname in filenames:\n",
        "          with open(fname) as infile:\n",
        "              outfile.write(infile.read())\n",
        "\n",
        "  # Разложим текст на токены\n",
        "  with open(f'/content/{FILENAME}_output_total.txt') as f:\n",
        "    contents = f.read()\n",
        "\n",
        "  # Разделим итоговый текст на пакеты токенов\n",
        "  nlp = Russian()\n",
        "  doc = nlp(contents)\n",
        "\n",
        "  batches_with_duplicates = [token.text for token in doc]\n",
        "  batches = list(set(batches_with_duplicates))\n",
        "\n",
        "\n",
        "  # Определим число запросов к YandexGPT API\n",
        "  batchesModulo = len(batches) % 1000\n",
        "\n",
        "  if batchesModulo > 0:\n",
        "    batchesQty = int(len(batches) / 1000) + 1\n",
        "  else:\n",
        "    batchesQty = int(len(batches) / 1000)\n",
        "\n",
        "  print(f'Обращений к YaGPT: {batchesQty}')\n",
        "\n",
        "  i = 1\n",
        "\n",
        "  while i <= batchesQty:\n",
        "    batchMax = 1000 * i\n",
        "    batchMin = batchMax - 999\n",
        "    batch = batches[batchMin:batchMax]\n",
        "\n",
        "    i += 1\n",
        "\n",
        "    prompt = {\n",
        "      \"modelUri\": f\"gpt://{FOLDER_ID}/yandexgpt-lite\",\n",
        "      \"completionOptions\": {\n",
        "        \"stream\": False,\n",
        "        \"temperature\": 0.6,\n",
        "        \"maxTokens\": \"1100\"\n",
        "      },\n",
        "      \"messages\": [\n",
        "        {\n",
        "          \"role\": \"system\",\n",
        "          \"text\": \"Перечисли через запятую контактные данные (телефоны, почты, ссылки, токены), которые есть в приложенном тексте . Названия компаний и брендов не перечисляй как возможные контактные данные. Больше ничего не пиши.\"\n",
        "        },\n",
        "        {\n",
        "          \"role\": \"user\",\n",
        "          \"text\": f\"{batch}\"\n",
        "        }\n",
        "      ]\n",
        "    }\n",
        "\n",
        "    with open(f'prompts/prompt_{i-1}.json', 'w') as f:\n",
        "        json.dump(prompt, f, ensure_ascii=False)\n",
        "\n",
        "  url = 'https://llm.api.cloud.yandex.net/foundationModels/v1/completion'\n",
        "\n",
        "  with open(f'prompts/prompt_{i-1}.json', 'r', encoding='utf-8') as f:\n",
        "      data = json.dumps(json.load(f))\n",
        "  resp = requests.post(url, headers=auth_headers, data=data)\n",
        "  print(json.loads(resp.text)[\"result\"][\"alternatives\"][0][\"message\"][\"text\"])\n",
        "  return json.loads(resp.text)[\"result\"][\"alternatives\"][0][\"message\"][\"text\"]"
      ]
    },
    {
      "cell_type": "code",
      "execution_count": null,
      "metadata": {
        "id": "4SFjE16n7JpE"
      },
      "outputs": [],
      "source": [
        "def get_pixmaps_in_pdf(pdf_filename):\n",
        "    doc = fitz.open(pdf_filename)\n",
        "    xrefs = set()\n",
        "    for page_index in range(doc.page_count):\n",
        "        for image in doc.get_page_images(page_index):\n",
        "            xrefs.add(image[0])\n",
        "    pixmaps = [fitz.Pixmap(doc, xref) for xref in xrefs]\n",
        "    doc.close()\n",
        "    return pixmaps\n",
        "\n",
        "\n",
        "def write_pixmaps_to_pngs(pixmaps):\n",
        "    for i, pixmap in enumerate(pixmaps):\n",
        "        pixmap.save(open(f\"to_extract/image_{time.time()}.png\", \"wb\"))"
      ]
    },
    {
      "cell_type": "markdown",
      "metadata": {
        "id": "bR3gy6RPynzR"
      },
      "source": [
        "# Извлекаем контакты"
      ]
    },
    {
      "cell_type": "code",
      "execution_count": null,
      "metadata": {
        "colab": {
          "base_uri": "https://localhost:8080/"
        },
        "id": "6SsdsryUkjiR",
        "outputId": "495fca25-f01b-4ace-ac58-c8b421810899"
      },
      "outputs": [
        {
          "name": "stdout",
          "output_type": "stream",
          "text": [
            "PUBID_345395-Инструкция по обработке обслуживания (Релиз 5.1).pdf\n",
            "Текст извлечен из файла: PUBID_345395-Инструкция по обработке обслуживания (Релиз 5.1).pdf\n",
            "PUBID_345395-Инструкция по обработке обслуживания (Релиз 5.1).pdf\n",
            "Текст извлечен из файла: PUBID_2009524-Руководство пользователя AI.pdf\n",
            "PUBID_345395-Инструкция по обработке обслуживания (Релиз 5.1).pdf\n",
            "Текст извлечен из файла: PUBID_345395-Список изменений.pdf\n"
          ]
        }
      ],
      "source": [
        "# Извлекаем текст\n",
        "i = 0\n",
        "\n",
        "while i < len(files):\n",
        "  FILE = f'/content/{files[i]}'\n",
        "  print(files[0])\n",
        "  try:\n",
        "    text = extract_text_from_pdf(FILE)\n",
        "    print(f\"Текст извлечен из файла: {files[i]}\")\n",
        "  except Exception as e:\n",
        "    text = extract_text_from_docx(FILE)\n",
        "    print(f\"Текст извлечен из файла: {files[i]}\")\n",
        "\n",
        "  with open(f\"{files[i]}_output.txt\", \"w+\") as f:\n",
        "      f.writelines(text)\n",
        "\n",
        "  i += 1"
      ]
    },
    {
      "cell_type": "code",
      "execution_count": null,
      "metadata": {
        "colab": {
          "base_uri": "https://localhost:8080/"
        },
        "id": "MR6voEmQ_ydI",
        "outputId": "2356d488-0c86-4723-ddff-9a18729dca66"
      },
      "outputs": [
        {
          "name": "stdout",
          "output_type": "stream",
          "text": [
            "Изображения извлечены из файлов.\n",
            "Изображения извлечены из файлов.\n",
            "Изображения извлечены из файлов.\n"
          ]
        }
      ],
      "source": [
        "# Извлекаем картинки\n",
        "i = 0\n",
        "\n",
        "while i < len(files):\n",
        "  pixmaps = get_pixmaps_in_pdf(files[i])\n",
        "  write_pixmaps_to_pngs(pixmaps)\n",
        "  print(f\"Изображения извлечены из файлов.\")\n",
        "  i += 1"
      ]
    },
    {
      "cell_type": "code",
      "execution_count": null,
      "metadata": {
        "id": "iq0Mv2Gh_Ahc"
      },
      "outputs": [],
      "source": [
        "extract_text_from_images()\n",
        "print(f\"Текст извлечен из картинок.\")"
      ]
    },
    {
      "cell_type": "code",
      "execution_count": null,
      "metadata": {
        "id": "30P_XKwk_GLU"
      },
      "outputs": [],
      "source": [
        "i = 0\n",
        "\n",
        "while i < len(files):\n",
        "  print(search_for_contacts(headers, files[i]))\n",
        "\n",
        "  # Зальем результат в отдельный файл\n",
        "  f = open(f\"{files[i]}_result.txt\", \"a\")\n",
        "  print(f\"Контакты сохранены в файл: {files[i]}_result.txt\")\n",
        "\n",
        "  # Скачаем результат поиска\n",
        "  f.close()\n",
        "  fls.download(f\"{files[i]}_result.txt\")\n",
        "  i += 1"
      ]
    },
    {
      "cell_type": "code",
      "execution_count": null,
      "metadata": {
        "id": "cJvClwc2GLMG"
      },
      "outputs": [],
      "source": [
        "!%%capture\n",
        "# Удалим временные папки и файлы\n",
        "!rm -rf prompts\n",
        "!rm -rf result_eng\n",
        "!rm -rf result_rus\n",
        "!rm -rf to_extract"
      ]
    }
  ],
  "metadata": {
    "colab": {
      "collapsed_sections": [
        "kxve1_vy9i1K",
        "5FKmyUkFF0dz",
        "bR3gy6RPynzR"
      ],
      "provenance": []
    },
    "kernelspec": {
      "display_name": "Python 3",
      "name": "python3"
    },
    "language_info": {
      "name": "python"
    }
  },
  "nbformat": 4,
  "nbformat_minor": 0
}
